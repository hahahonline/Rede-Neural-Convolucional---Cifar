{
  "nbformat": 4,
  "nbformat_minor": 0,
  "metadata": {
    "colab": {
      "provenance": [],
      "authorship_tag": "ABX9TyNAIQOLqlIFn6qpzhbqBURq",
      "include_colab_link": true
    },
    "kernelspec": {
      "name": "python3",
      "display_name": "Python 3"
    },
    "language_info": {
      "name": "python"
    }
  },
  "cells": [
    {
      "cell_type": "markdown",
      "metadata": {
        "id": "view-in-github",
        "colab_type": "text"
      },
      "source": [
        "<a href=\"https://colab.research.google.com/github/hahahonline/Rede-Neural-Convolucional---Cifar/blob/main/Rede_Neural_Convolucional_Cifar.ipynb\" target=\"_parent\"><img src=\"https://colab.research.google.com/assets/colab-badge.svg\" alt=\"Open In Colab\"/></a>"
      ]
    },
    {
      "cell_type": "code",
      "source": [
        "from keras.datasets import cifar10\n",
        "from keras.models import Sequential\n",
        "from keras.layers import Conv2D, MaxPooling2D, Flatten, Dense\n",
        "from keras.utils import to_categorical\n",
        "import matplotlib.pyplot as plt"
      ],
      "metadata": {
        "id": "SNwFuBoUwERf"
      },
      "execution_count": 1,
      "outputs": []
    },
    {
      "cell_type": "code",
      "source": [
        "#!pip install keras --upgrade\n",
        "from tensorflow.keras.preprocessing.image import array_to_img\n",
        "from PIL import Image\n",
        "\n",
        "# Carrega os dados CIFAR-10\n",
        "(x_treino, y_treino), (x_teste, y_teste) = cifar10.load_data()\n",
        "\n",
        "# Seleciona uma imagem de exemplo\n",
        "image = x_treino[1000]\n",
        "\n",
        "# Cria um objeto PIL Image a partir do array da imagem\n",
        "pil_image = array_to_img(image)\n",
        "\n",
        "# Redimensiona a imagem para 1000x1000\n",
        "resized_image = pil_image.resize((1000, 1000))\n",
        "\n",
        "# Mostra a imagem redimensionada\n",
        "plt.imshow(resized_image)\n",
        "plt.show()\n"
      ],
      "metadata": {
        "id": "3F8EuAY64VJc"
      },
      "execution_count": null,
      "outputs": []
    },
    {
      "cell_type": "code",
      "execution_count": 3,
      "metadata": {
        "id": "tn1hkSjMv2iw"
      },
      "outputs": [],
      "source": [
        "# Carrega os dados CIFAR-10\n",
        "(x_treino, y_treino), (x_teste, y_teste) = cifar10.load_data()"
      ]
    },
    {
      "cell_type": "code",
      "source": [
        "# Pré-processa os dados\n",
        "x_treino = x_treino.astype('float32') / 255\n",
        "x_teste = x_teste.astype('float32') / 255\n",
        "y_treino = to_categorical(y_treino, 10)\n",
        "y_teste = to_categorical(y_teste, 10)"
      ],
      "metadata": {
        "id": "hTnnylpBz4uS"
      },
      "execution_count": 4,
      "outputs": []
    },
    {
      "cell_type": "code",
      "source": [
        "# Cria o modelo da rede neural convolucional\n",
        "model = Sequential()\n",
        "model.add(Conv2D(32, (3, 3), activation='relu', input_shape=(32, 32, 3)))\n",
        "model.add(MaxPooling2D((2, 2)))\n",
        "model.add(Conv2D(64, (3, 3), activation='relu'))\n",
        "model.add(MaxPooling2D((2, 2)))\n",
        "model.add(Flatten())\n",
        "model.add(Dense(units = 64, activation='relu'))\n",
        "model.add(Dense(units = 10, activation='sigmoid'))"
      ],
      "metadata": {
        "id": "7cEHD3VUz2Wa"
      },
      "execution_count": 5,
      "outputs": []
    },
    {
      "cell_type": "code",
      "source": [
        "# Compila o modelo\n",
        "model.compile(optimizer='adam',\n",
        "              loss='categorical_crossentropy',\n",
        "              metrics=['accuracy'])"
      ],
      "metadata": {
        "id": "bejKehVqz0iI"
      },
      "execution_count": 6,
      "outputs": []
    },
    {
      "cell_type": "code",
      "source": [
        "# Treina o modelo\n",
        "#batch_size = tamanho do lote \n",
        "#epochs = número de vezes que o modelo de rede neural verá todo conjunto de dados de treinamento \n",
        "model.fit(x_treino, y_treino, epochs=10, batch_size=32, validation_data=(x_teste, y_teste), shuffle = False)\n"
      ],
      "metadata": {
        "colab": {
          "base_uri": "https://localhost:8080/"
        },
        "id": "v6xgL2BLzyyd",
        "outputId": "fe3d0385-46a4-47ed-ed70-49dfd8edae78"
      },
      "execution_count": 9,
      "outputs": [
        {
          "output_type": "stream",
          "name": "stdout",
          "text": [
            "Epoch 1/10\n",
            "1563/1563 [==============================] - 76s 48ms/step - loss: 0.8797 - accuracy: 0.6961 - val_loss: 0.9444 - val_accuracy: 0.6769\n",
            "Epoch 2/10\n",
            "1563/1563 [==============================] - 73s 46ms/step - loss: 0.8209 - accuracy: 0.7180 - val_loss: 0.9315 - val_accuracy: 0.6829\n",
            "Epoch 3/10\n",
            "1563/1563 [==============================] - 72s 46ms/step - loss: 0.7635 - accuracy: 0.7384 - val_loss: 0.9319 - val_accuracy: 0.6880\n",
            "Epoch 4/10\n",
            "1563/1563 [==============================] - 72s 46ms/step - loss: 0.7141 - accuracy: 0.7533 - val_loss: 0.9462 - val_accuracy: 0.6890\n",
            "Epoch 5/10\n",
            "1563/1563 [==============================] - 72s 46ms/step - loss: 0.6701 - accuracy: 0.7690 - val_loss: 0.9651 - val_accuracy: 0.6847\n",
            "Epoch 6/10\n",
            "1563/1563 [==============================] - 71s 46ms/step - loss: 0.6309 - accuracy: 0.7828 - val_loss: 0.9875 - val_accuracy: 0.6809\n",
            "Epoch 7/10\n",
            "1563/1563 [==============================] - 70s 45ms/step - loss: 0.5950 - accuracy: 0.7965 - val_loss: 1.0305 - val_accuracy: 0.6778\n",
            "Epoch 8/10\n",
            "1563/1563 [==============================] - 72s 46ms/step - loss: 0.5625 - accuracy: 0.8072 - val_loss: 1.0940 - val_accuracy: 0.6677\n",
            "Epoch 9/10\n",
            "1563/1563 [==============================] - 72s 46ms/step - loss: 0.5305 - accuracy: 0.8190 - val_loss: 1.1458 - val_accuracy: 0.6627\n",
            "Epoch 10/10\n",
            "1563/1563 [==============================] - 71s 46ms/step - loss: 0.5015 - accuracy: 0.8289 - val_loss: 1.2037 - val_accuracy: 0.6606\n"
          ]
        },
        {
          "output_type": "execute_result",
          "data": {
            "text/plain": [
              "<keras.callbacks.History at 0x7fecc5f87dc0>"
            ]
          },
          "metadata": {},
          "execution_count": 9
        }
      ]
    },
    {
      "cell_type": "code",
      "source": [
        "plt.plot(model.history.history['accuracy'], label='Precisão no treino')\n",
        "plt.plot(model.history.history['val_accuracy'], label='Precisão no teste')\n",
        "plt.title('Precisão durante o treino')\n",
        "plt.xlabel('Epoch')\n",
        "plt.ylabel('Precisão')\n",
        "plt.legend()\n",
        "plt.show()"
      ],
      "metadata": {
        "colab": {
          "base_uri": "https://localhost:8080/",
          "height": 295
        },
        "id": "hpMdKiVz1x13",
        "outputId": "636c6528-8571-43fd-cc45-293b18a1afbb"
      },
      "execution_count": 8,
      "outputs": [
        {
          "output_type": "display_data",
          "data": {
            "text/plain": [
              "<Figure size 432x288 with 1 Axes>"
            ],
            "image/png": "[encoded data removed]"
          },
          "metadata": {
            "needs_background": "light"
          }
        }
      ]
    }
  ]
}